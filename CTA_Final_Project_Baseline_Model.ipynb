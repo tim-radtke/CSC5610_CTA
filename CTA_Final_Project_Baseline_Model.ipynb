{
 "cells": [
  {
   "cell_type": "code",
   "execution_count": 1,
   "id": "87ff0047-0c27-48c4-8d0f-100803bfe3b1",
   "metadata": {},
   "outputs": [],
   "source": [
    "import pandas as pd\n",
    "import numpy as np\n",
    "import matplotlib.pyplot as plt\n",
    "import seaborn as sns\n",
    "from scipy import stats\n",
    "from datetime import datetime\n",
    "import datetime as dt\n",
    "import pyarrow.feather as feather\n",
    "\n",
    "#Setup the figures to be higher DPI when displayed in the notebook and saved\n",
    "plt.rcParams['figure.dpi'] = 150\n",
    "plt.rcParams['savefig.dpi'] = 300\n",
    "\n",
    "#Determine if you want to save the figures or just display them in the notebook\n",
    "save_figure_option = False"
   ]
  },
  {
   "cell_type": "code",
   "execution_count": null,
   "id": "a801c5a2-c37c-4abc-94f3-67d066a9ae76",
   "metadata": {},
   "outputs": [],
   "source": []
  }
 ],
 "metadata": {
  "kernelspec": {
   "display_name": "Python 3 (ipykernel)",
   "language": "python",
   "name": "python3"
  },
  "language_info": {
   "codemirror_mode": {
    "name": "ipython",
    "version": 3
   },
   "file_extension": ".py",
   "mimetype": "text/x-python",
   "name": "python",
   "nbconvert_exporter": "python",
   "pygments_lexer": "ipython3",
   "version": "3.12.2"
  }
 },
 "nbformat": 4,
 "nbformat_minor": 5
}
